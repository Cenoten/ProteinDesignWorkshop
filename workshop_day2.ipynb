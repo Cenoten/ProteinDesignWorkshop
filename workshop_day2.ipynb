{
 "cells": [
  {
   "cell_type": "markdown",
   "id": "f2e5c046-3818-4cab-bdce-2510370b3839",
   "metadata": {
    "tags": []
   },
   "source": [
    "# Protein Design Workshop Day 2:\n",
    "# Design of de novo minibinder to the RBD of Sars-cov-2 \n",
    "# RFdiffusion, ProteinMPNN, ColabFold \n"
   ]
  },
  {
   "cell_type": "markdown",
   "id": "113391e7-462b-465b-8c13-ce9afafd4369",
   "metadata": {
    "tags": []mpnn
   },
   "source": [
    "## Design Project:\n",
    "- The goal is to design a binder to the ACE2 receptor, that could act as a competitive inhibitor to the SARS-COV2 RBD. \n",
    "- Starting from the 7BH9 structure, we will use two strategies to design binders. We will design (i) a _de novo_ binder and (ii) we will strart from the RBD binding peptide and design a scaffold around it. \n",
    "- The design pipeline starts with design of the backbones using **RFdiffusion**, then we design the sequence using **ProteinMPNN** and pick sequences using **ColabFold** with Initial Guess with single sequence mode. "
   ]
  },
  {
   "cell_type": "markdown",
   "id": "29175327-9f4e-401b-bde1-f8d6fb9487a2",
   "metadata": {
    "tags": []
   },
   "source": [
    "## Import modules and packages:"
   ]
  },
  {
   "cell_type": "markdown",
   "id": "5a3a8c67-fe1a-4038-ab67-c593eb0ea295",
   "metadata": {},
   "source": [
    "### <u>How to load a module</u> :\n",
    "- Click on **Software** on the left tab, underneath the folder explorer\n",
    "- Type the name of the packages and click on load\n",
    "- Wait for the module to be load before loading another module \n",
    "    \n",
    "The module are loaded for whole session of the notebook.  \n",
    "After loading all of the module, to be able to import it you have to restart the ipikernel. You can click on:\n",
    "- **Python 3 (ipykernel) | Idle** on the bottom left of the screen\n",
    "- Choose the correct python environment : **Python 3 (ipykernel** \n",
    "- And press select \n",
    "    \n",
    "### <u>Module to load by hand</u>\n",
    "- RFdiffusion/1.1.0-foss-2022a-CUDA-11.7.0\n",
    "- matplotlib/3.5.2-foss-2022a\n",
    "- Seaborn/0.12.1-foss-2022a\n",
    "- Pyrosetta/4.release-384-gompi-2022a\n",
    "- ColabFold/1.5.2-foss-2022a-CUDA-11.7.0\n",
    "- ProteinMPNN/1.0.1-20320627-foss-2022a-CUDA-11.7.0"
   ]
  },
  {
   "cell_type": "code",
   "execution_count": 1,
   "id": "94dd9d17-82d7-4039-87b0-0c28178c1def",
   "metadata": {},
   "outputs": [],
   "source": [
    "import lmod\n",
    "import glob, hashlib\n",
    "import json, warnings\n",
    "import os, time, signal\n",
    "import sys, random, string, re\n",
    "import shutil\n",
    "from copy import copy \n",
    "from pathlib import Path\n",
    "from sys import version_info\n",
    "\n",
    "import numpy as np\n",
    "import matplotlib.pyplot as plt \n",
    "import seaborn as sns\n",
    "import pandas as pd \n",
    "\n",
    "import pyrosetta as py \n",
    "from pyrosetta import *\n",
    "\n",
    "import colabfold\n",
    "from colabfold.download import download_alphafold_params, default_data_dir\n",
    "from colabfold.utils import setup_logging\n",
    "from colabfold.batch import get_queries, run, set_model_type\n",
    "from colabfold.plot import plot_msa_v2\n",
    "from colabfold.colabfold import plot_protein\n",
    "\n",
    "from IPython.display import display, HTML\n",
    "import ipywidgets as widgets\n",
    "# import py3Dmol\n",
    "warnings.simplefilter(action='ignore', category=FutureWarning)\n",
    "# from Bio import BiopythonDeprecationWarning\n",
    "# warnings.simplefilter(action='ignore', category=BiopythonDeprecationWarning)\n",
    "\n",
    "\n",
    "\n"
   ]
  },
  {
   "cell_type": "code",
   "execution_count": 2,
   "id": "0777fc3f-d294-4c30-b265-7ba2ae5770c2",
   "metadata": {},
   "outputs": [
    {
     "name": "stdout",
     "output_type": "stream",
     "text": [
      "all of the module are correctly loaded\n"
     ]
    }
   ],
   "source": [
    "ref = ['GCCcore/11.3.0', 'zlib/1.2.12-GCCcore-11.3.0', 'binutils/2.38-GCCcore-11.3.0', 'bzip2/1.0.8-GCCcore-11.3.0', 'ncurses/6.3-GCCcore-11.3.0', 'libreadline/8.1.2-GCCcore-11.3.0', 'Tcl/8.6.12-GCCcore-11.3.0', 'SQLite/3.38.3-GCCcore-11.3.0', 'XZ/5.2.5-GCCcore-11.3.0', 'GMP/6.2.1-GCCcore-11.3.0', 'libffi/3.4.2-GCCcore-11.3.0', 'OpenSSL/1.1', 'Python/3.10.4-GCCcore-11.3.0', 'OpenPGM/5.2.122-GCCcore-11.3.0', 'libsodium/1.0.18-GCCcore-11.3.0', 'util-linux/2.38-GCCcore-11.3.0', 'ZeroMQ/4.3.4-GCCcore-11.3.0', 'libxml2/2.9.13-GCCcore-11.3.0', 'libxslt/1.1.34-GCCcore-11.3.0', 'lxml/4.9.1-GCCcore-11.3.0', 'BeautifulSoup/4.10.0-GCCcore-11.3.0', 'IPython/8.5.0-GCCcore-11.3.0', 'jupyter-server/1.21.0-GCCcore-11.3.0', 'JupyterLab/3.5.0-GCCcore-11.3.0', 'jupyterlmod/4.0.3-GCCcore-11.3.0', 'Mako/1.2.0-GCCcore-11.3.0', 'ICU/71.1-GCCcore-11.3.0', 'nodejs/16.15.1-GCCcore-11.3.0', 'configurable-http-proxy/4.5.3-GCCcore-11.3.0', 'aiohttp/3.8.3-GCCcore-11.3.0', 'jupyter-server-proxy/3.2.2-GCCcore-11.3.0', 'code-server/4.90.2', 'jupyter-vscode-proxy/0.6-GCCcore-11.3.0', 'cURL/7.83.0-GCCcore-11.3.0', 'PycURL/7.45.2-GCCcore-11.3.0', 'JupyterHub/3.1.1-GCCcore-11.3.0', 'GCC/11.3.0', 'numactl/2.0.14-GCCcore-11.3.0', 'libpciaccess/0.16-GCCcore-11.3.0', 'hwloc/2.7.1-GCCcore-11.3.0', 'libevent/2.1.12-GCCcore-11.3.0', 'UCX/1.12.1-GCCcore-11.3.0', 'PMIx/4.1.2-GCCcore-11.3.0', 'UCC/1.0.0-GCCcore-11.3.0', 'OpenMPI/4.1.4-GCC-11.3.0', 'OpenBLAS/0.3.20-GCC-11.3.0', 'FlexiBLAS/3.2.0-GCC-11.3.0', 'FFTW/3.3.10-GCC-11.3.0', 'gompi/2022a', 'FFTW.MPI/3.3.10-gompi-2022a', 'ScaLAPACK/2.2.0-gompi-2022a-fb', 'foss/2022a', 'CUDA/11.7.0', 'pybind11/2.9.2-GCCcore-11.3.0', 'SciPy-bundle/2022.05-foss-2022a', 'Ninja/1.10.2-GCCcore-11.3.0', 'protobuf/3.19.4-GCCcore-11.3.0', 'protobuf-python/3.19.4-GCCcore-11.3.0', 'libyaml/0.2.5-GCCcore-11.3.0', 'PyYAML/6.0-GCCcore-11.3.0', 'MPFR/4.1.0-GCCcore-11.3.0', 'NASM/2.15.05-GCCcore-11.3.0', 'x264/20220620-GCCcore-11.3.0', 'LAME/3.100-GCCcore-11.3.0', 'x265/3.5-GCCcore-11.3.0', 'expat/2.4.8-GCCcore-11.3.0', 'libpng/1.6.37-GCCcore-11.3.0', 'Brotli/1.0.9-GCCcore-11.3.0', 'freetype/2.12.1-GCCcore-11.3.0', 'fontconfig/2.14.0-GCCcore-11.3.0', 'xorg-macros/1.19.3-GCCcore-11.3.0', 'X11/20220504-GCCcore-11.3.0', 'FriBidi/1.0.12-GCCcore-11.3.0', 'FFmpeg/4.4.2-GCCcore-11.3.0', 'libjpeg-turbo/2.1.3-GCCcore-11.3.0', 'jbigkit/2.1-GCCcore-11.3.0', 'gzip/1.12-GCCcore-11.3.0', 'lz4/1.9.3-GCCcore-11.3.0', 'zstd/1.5.2-GCCcore-11.3.0', 'libdeflate/1.10-GCCcore-11.3.0', 'LibTIFF/4.3.0-GCCcore-11.3.0', 'Pillow/9.1.1-GCCcore-11.3.0', 'cuDNN/8.4.1.50-CUDA-11.7.0', 'GDRCopy/2.3-GCCcore-11.3.0', 'UCX-CUDA/1.12.1-GCCcore-11.3.0-CUDA-11.7.0', 'magma/2.6.2-foss-2022a-CUDA-11.7.0', 'NCCL/2.12.12-GCCcore-11.3.0-CUDA-11.7.0', 'expecttest/0.1.3-GCCcore-11.3.0', 'PyTorch/1.12.0-foss-2022a-CUDA-11.7.0', 'MPC/1.2.1-GCCcore-11.3.0', 'gmpy2/2.1.2-GCC-11.3.0', 'sympy/1.11.1-foss-2022a', 'e3nn/0.3.3-foss-2022a-CUDA-11.7.0', 'gettext/0.21-GCCcore-11.3.0', 'DB/18.1.40-GCCcore-11.3.0', 'Perl/5.34.1-GCCcore-11.3.0', 'git/2.36.0-GCCcore-11.3.0-nodocs', 'GitPython/3.1.27-GCCcore-11.3.0', 'wandb/0.13.4-GCCcore-11.3.0', 'networkx/2.8.4-foss-2022a', 'tqdm/4.64.0-GCCcore-11.3.0', 'DLPack/0.8-GCC-11.3.0', 'DMLC-Core/0.5-GCC-11.3.0', 'Parallel-Hashmap/1.36-GCCcore-11.3.0', 'nanoflann/1.5.0-GCCcore-11.3.0', 'DGL/1.1.1-foss-2022a-CUDA-11.7.0', 'Hydra/1.3.2-GCCcore-11.3.0', 'RFdiffusion/1.1.0-foss-2022a-CUDA-11.7.0', 'Tk/8.6.12-GCCcore-11.3.0', 'Tkinter/3.10.4-GCCcore-11.3.0', 'Qhull/2020.2-GCCcore-11.3.0', 'matplotlib/3.5.2-foss-2022a', 'Seaborn/0.12.1-foss-2022a', 'PyRosetta/4.release-384-gompi-2022a', 'Szip/2.1.1-GCCcore-11.3.0', 'HDF5/1.12.2-gompi-2022a', 'h5py/3.7.0-foss-2022a', 'dill/0.3.6-GCCcore-11.3.0', 'double-conversion/3.2.0-GCCcore-11.3.0', 'flatbuffers/2.0.7-GCCcore-11.3.0', 'giflib/5.2.1-GCCcore-11.3.0', 'JsonCpp/1.9.5-GCCcore-11.3.0', 'LMDB/0.9.29-GCCcore-11.3.0', 'nsync/1.25.0-GCCcore-11.3.0', 'snappy/1.1.9-GCCcore-11.3.0', 'TensorFlow/2.11.0-foss-2022a-CUDA-11.7.0', 'Biopython/1.79-foss-2022a', 'HH-suite/3.3.0-gompi-2022a', 'HMMER/3.3.2-gompi-2022a', 'Kalign/3.3.5-GCCcore-11.3.0', 'flatbuffers-python/2.0-GCCcore-11.3.0', 'jax/0.3.25-foss-2022a-CUDA-11.7.0', 'PCRE/8.45-GCCcore-11.3.0', 'SWIG/4.0.2-GCCcore-11.3.0', 'OpenMM/8.0.0-foss-2022a-CUDA-11.7.0', 'AlphaFold/2.3.4-foss-2022a-CUDA-11.7.0-ColabFold', 'py3Dmol/2.0.1.post1-GCCcore-11.3.0', 'ColabFold/1.5.2-foss-2022a-CUDA-11.7.0', 'libwebp/1.2.4-GCCcore-11.3.0', 'Pillow-SIMD/9.2.0-GCCcore-11.3.0', 'torchvision/0.13.1-foss-2022a-CUDA-11.7.0', 'libogg/1.3.5-GCCcore-11.3.0', 'FLAC/1.3.4-GCCcore-11.3.0', 'libmad/0.15.1b-GCCcore-11.3.0', 'libvorbis/1.3.7-GCCcore-11.3.0', 'SoX/14.4.2-GCCcore-11.3.0', 'torchaudio/0.12.0-foss-2022a-PyTorch-1.12.0-CUDA-11.7.0', 'ProteinMPNN/1.0.1-20230627-foss-2022a-CUDA-11.7.0']\n",
    "loaded_modules = await lmod.list()\n",
    "missing_m = []\n",
    "for module in ref:\n",
    "    if not module in loaded_modules:\n",
    "        missing_m.append(module)\n",
    "if len(missing_m) == 0:\n",
    "    print(\"all of the module are correctly loaded\")\n",
    "else:\n",
    "    for m in missing_m:\n",
    "        print(f\"The following module is missing: {m}\")\n",
    "    print(\"Do not import all of the module but the top of the dependencie (likely the last module printed)\")\n",
    "\n"
   ]
  },
  {
   "cell_type": "code",
   "execution_count": null,
   "id": "056cae71-384c-4c59-865d-443fb2c364c2",
   "metadata": {},
   "outputs": [],
   "source": [
    "## need:  input rfdiffusion, input template cfold, folder with done bb, picked.json, picked_bb, picked.fa, cfold_initial_guess, tmalign.json, cfold_data.json\n",
    "## folder tree "
   ]
  },
  {
   "cell_type": "markdown",
   "id": "84860226-e52a-4fd3-a92d-f2957ed2ad08",
   "metadata": {
    "tags": []
   },
   "source": [
    "# RFdiffusion"
   ]
  },
  {
   "cell_type": "markdown",
   "id": "c26363a5-333c-4839-9fed-34c57626d27d",
   "metadata": {},
   "source": [
    "### The prompt for RFdiffusion:\n",
    "- For the _de novo_ binder, we use the following prompt:  \n",
    "run_inference.py inference.output_prefix={output_folder}/{output_prefix} \\\n",
    "    inference.input_pdb=input_RFdiffusion/7bh9_clean.pdb \\\n",
    "    inference.num_designs=1 \\\n",
    "    'contigmap.contigs=[E603-730/0 90-120]' \\\n",
    "    'ppi.hotspot_res=[E669,E671,E672,E689,E703,E705,E709,E712,E714,E716,E717,E718,E721]' \\\n",
    "    diffuser.T=25 \"\n",
    "- **inference.output_prefix**: the name of the designs.\n",
    "- **inference.num_designs**: the number of trajectories to do.\n",
    "- **inference.input_pdb**: the pdb of the protein we design the binder.\n",
    "- **contigmap.contig**:\n",
    "    - E603-730: the residues to be taken into account during the trajectory, they will be kept fixed ~RMSD <1 Å.\n",
    "    - /0 : chain break.\n",
    "    - 90-120 : RFdiffusion samples backbones from 90 residues to 120 residues randomly/\n",
    "- **diffuser.T**: number of denoising step, other benchmark did not show any difference with more denoising steps. So 25 allows to reduce computing time. \n",
    "- **ppi.hotspot_res**: The residues the backbones should be close to. "
   ]
  },
  {
   "cell_type": "markdown",
   "id": "9479e387-6321-4b3c-9855-12df6386dbaf",
   "metadata": {
    "tags": []
   },
   "source": [
    "## Running RFdiffusion for the _de novo binder_ and the scaffold binder "
   ]
  },
  {
   "cell_type": "markdown",
   "id": "2a84d5d2-318f-4d98-ad74-16ac71f6c668",
   "metadata": {},
   "source": [
    "- Open a terminal \n",
    "- Go to the submit_scripts folder with:\n",
    "    - cd submit_scripts \n",
    "    - cd = change directory \n",
    "- Load the RFdiffusion module with:\n",
    "    - module load RFdiffusion/1.1.0-foss-2022a-CUDA-11.7.0\n",
    "- Run the prompt with:\n",
    "    - bash rf_diffusion_de_novo.sh \n",
    "    - Wait for it to finish \n",
    "    - bash rf_diffusion_scaffold.sh \n",
    "    - A folder is created in ProteinDesignWorkshop\n",
    "- <u>**If it does not work**</u>:\n",
    "    - Directory issue:\n",
    "        - Use pwd (print working directory)\n",
    "        - And navigate to the correct directory with cd, i.e. submit_scipts/\n",
    "    - Issue with the modules:\n",
    "        - Check the loaded module:\n",
    "            - module list \n",
    "        - Unload the modules:\n",
    "            - module purge \n",
    "        - Load the correct modules, see above \n",
    "- If needed, go back to the previous folder with:\n",
    "    - cd ../"
   ]
  },
  {
   "cell_type": "markdown",
   "id": "a3d635ed-2b60-49b4-9b35-49057755d2d0",
   "metadata": {
    "tags": []
   },
   "source": [
    "## Picking backbone from Rfdiffusion runs:\n",
    "\n",
    "- We use Pyrosetta to analyse the backbone produced using the following parameters:\n",
    "    - number of helices > 2\n",
    "    - loop percentage > 0.07\n",
    "    - alpha percentage < 0.94\n",
    "    - radius of gyration < 19 \n",
    "    - number of helcies < 6"
   ]
  },
  {
   "cell_type": "code",
   "execution_count": 17,
   "id": "2eba3110-44d0-4c86-9fc7-5dd816518d3f",
   "metadata": {},
   "outputs": [
    {
     "name": "stdout",
     "output_type": "stream",
     "text": [
      "┌──────────────────────────────────────────────────────────────────────────────┐\n",
      "│                                 PyRosetta-4                                  │\n",
      "│              Created in JHU by Sergey Lyskov and PyRosetta Team              │\n",
      "│              (C) Copyright Rosetta Commons Member Institutions               │\n",
      "│                                                                              │\n",
      "│ NOTE: USE OF PyRosetta FOR COMMERCIAL PURPOSES REQUIRE PURCHASE OF A LICENSE │\n",
      "│         See LICENSE.PyRosetta.md or email license@uw.edu for details         │\n",
      "└──────────────────────────────────────────────────────────────────────────────┘\n",
      "PyRosetta-4 2024 [Rosetta PyRosetta4.Release.python310.linux 2024.24+release.ca096dac4f43ee5ee195f87f3703a520fcf60cf9 2024-06-14T16:57:57] retrieved from: http://www.pyrosetta.org\n",
      "rfdiffusion_scaffold/scaffold_0.pdb\n",
      "rfdiffusion_scaffold/scaffold_2.pdb\n",
      "rfdiffusion_scaffold/scaffold_3.pdb\n",
      "rfdiffusion_scaffold/scaffold_1.pdb\n",
      "rfdiffusion_scaffold\n",
      "rfdiffusion_de_novo/de_novo_0.pdb\n",
      "rfdiffusion_de_novo\n"
     ]
    }
   ],
   "source": [
    "py.init('-mute all')\n",
    "def create_movers():\n",
    "    dssp_mover = py.rosetta.protocols.moves.DsspMover()\n",
    "    interface_mover = py.rosetta.protocols.analysis.InterfaceAnalyzerMover(\"A_B\")\n",
    "    sf = py.ScoreFunction()\n",
    "    score_type = py.rosetta.core.scoring.ScoreType(0).rg\n",
    "    try:\n",
    "        assert score_type.__str__()==\"ScoreType.rg\"\n",
    "    except AssertionError:\n",
    "        print(\"ScoreType is {score_type.__str__()} and not ScoreType.rg\")  \n",
    "    \n",
    "    sf.set_weight(py.rosetta.core.scoring.ScoreType(326),1.0)\n",
    "    ddg_mover = py.rosetta.protocols.ddg.ddGMover()\n",
    "    return dssp_mover,sf,interface_mover, ddg_mover\n",
    "\n",
    "def interface_analysis(pose,mover_interface):\n",
    "    mover_interface.apply(pose)\n",
    "    data = mover_interface.get_all_data()\n",
    "    return data.dSASA, data.interface_nres, data.dG, data.centroid_dG\n",
    "\n",
    "def annotate_ss(dssp):\n",
    "    full_ss = {}\n",
    "    nb_motif=1\n",
    "    for i in range(0,len(dssp)):\n",
    "        #     continue\n",
    "        if i == 0:\n",
    "            current_ss = {\"motif\":dssp[i], \"start\":i,\"end\":int, \"length\":int}\n",
    "\n",
    "        if dssp[i] != dssp[i-1] and i != 0 :\n",
    "            #change the sec struct writing \n",
    "            current_ss[\"end\"] = i\n",
    "            current_ss[\"length\"] = current_ss[\"end\"] -current_ss[\"start\"] \n",
    "            full_ss[nb_motif] = copy(current_ss)\n",
    "            nb_motif+=1\n",
    "            current_ss = {\"motif\":dssp[i], \"start\":i,\"end\":int, \"length\":int}\n",
    "        \n",
    "        if i == len(dssp)-1:\n",
    "            current_ss[\"end\"] = i\n",
    "            current_ss[\"length\"] = current_ss[\"end\"] -current_ss[\"start\"] \n",
    "            full_ss[nb_motif] = copy(current_ss)\n",
    "    return full_ss\n",
    "\n",
    "def ss_content(dssp):\n",
    "    beta_perc = dssp.count(\"E\")/len(dssp)\n",
    "    alpha_perc = dssp.count(\"H\")/len(dssp)\n",
    "    loop_perc = dssp.count(\"L\")/len(dssp)\n",
    "    # assert beta_perc+alpha_perc+loop_perc == 1\n",
    "    return beta_perc, alpha_perc, loop_perc\n",
    "\n",
    "def count_motif(dic, motif):\n",
    "    count = 0 \n",
    "    for i in dic.keys():\n",
    "        if dic[i][\"motif\"] == motif:\n",
    "            count += 1 \n",
    "    return count\n",
    "\n",
    "# try:\n",
    "#     assert os.path.isdir(output_folder)\n",
    "#     assert len(glob.glob(output_folder+\"/*.pdb\")) > 0\n",
    "# except AssertionError: \n",
    "#     print(\"error with the output_folder:{output_folder}\")\n",
    "\n",
    "dssp_mover,sf_rg,interface_mover , ddg_mover = create_movers()\n",
    "    # return dssp_mover,sf,interface_mover, ddg_mover\n",
    "length_target_prot = 0\n",
    "\n",
    "def create_dataset(folder):\n",
    "    dataset = {}\n",
    "    count = 0\n",
    "    for path in glob.glob(f\"{folder}/*.pdb\"):\n",
    "        pose = py.pose_from_pdb(path)\n",
    "        length_designed_protein = pose.total_residue()-length_target_prot\n",
    "        dssp_mover.apply(pose)\n",
    "        annotated_ss = annotate_ss(pose.secstruct()[:length_designed_protein])\n",
    "        nb_helices =  count_motif(annotated_ss,'H')\n",
    "        dSASA, list_nres, dG, centroid_dG = interface_analysis(pose= pose, mover_interface=interface_mover)\n",
    "        sf_rg.setup_for_scoring(pose)\n",
    "        rg = sf_rg(pose)\n",
    "        # datapoint = { \"dSASA_total\":dSASA[1], \"dSASA_A\":dSASA[2], \"dSASA_B\":dSASA[3], \"interface_nres_total\": list_nres[1], \"interface_nres_A\":list_nres[2], \"interface_nres_B\": list_nres[3], \"length_designed\":length_designed_protein, \"nb_helice\":nb_helices, \"dG\":dG[1], \"centroid_dG\":centroid_dG,\"rg\":rg}\n",
    "        beta_perc,alpha_perc,loop_perc = ss_content(pose.secstruct()[:length_designed_protein])\n",
    "        datapoint = {\"length_designed\":length_designed_protein, \"nb_helice\":nb_helices,\"rg\":rg, \"beta_perc\":beta_perc,\"alpha_perc\":alpha_perc, \"loop_perc\":loop_perc}\n",
    "        name = path.split('/')[-1]\n",
    "        dataset[name]=copy(datapoint)\n",
    "        count +=1 \n",
    "        if count in range(0,10000,10):\n",
    "            print( f\" ####### {count}/{len(glob.glob(f'{folder}/*.pdb'))} ####### \")\n",
    "    fi = open(folder.replace(\"/\",\"\")+\".json\",\"w\")\n",
    "    json.dump(obj=dataset,fp=fi, indent=5)\n",
    "    fi.close()\n",
    "create_dataset(\"rfdiffusion_scaffold\")\n",
    "create_dataset(\"rfdiffusion_de_novo\")"
   ]
  },
  {
   "cell_type": "code",
   "execution_count": 8,
   "id": "e08b4ee1-270e-4d0f-9bc4-60ab466a549d",
   "metadata": {},
   "outputs": [
    {
     "data": {
      "text/plain": [
       "<AxesSubplot:xlabel='nb_helice', ylabel='Count'>"
      ]
     },
     "execution_count": 8,
     "metadata": {},
     "output_type": "execute_result"
    },
    {
     "data": {
      "image/png": "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\n",
      "text/plain": [
       "<Figure size 432x288 with 2 Axes>"
      ]
     },
     "metadata": {
      "needs_background": "light"
     },
     "output_type": "display_data"
    }
   ],
   "source": [
    "%matplotlib inline\n",
    "df_denovo = pd.read_json(f\"de_novo/analysis_bb_denovo.json\").T\n",
    "df_scaffold = pd.read_json(f\"scaffold/scaffold_bb_analysis.json\").T\n",
    "fig, (ax1,ax2) = plt.subplots(sharex=True, sharey=True, nrows=1,ncols=2)\n",
    "sns.histplot(data=df_denovo, x='nb_helice',ax=ax1)\n",
    "sns.histplot(data=df_scaffold, x=\"nb_helice\", ax=ax2)"
   ]
  },
  {
   "cell_type": "code",
   "execution_count": 9,
   "id": "312acc96-813e-4097-ba77-b53da517973e",
   "metadata": {},
   "outputs": [
    {
     "data": {
      "text/plain": [
       "<AxesSubplot:xlabel='rg', ylabel='Count'>"
      ]
     },
     "execution_count": 9,
     "metadata": {},
     "output_type": "execute_result"
    },
    {
     "data": {
      "image/png": "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\n",
      "text/plain": [
       "<Figure size 432x288 with 2 Axes>"
      ]
     },
     "metadata": {
      "needs_background": "light"
     },
     "output_type": "display_data"
    }
   ],
   "source": [
    "fig, (ax1,ax2) = plt.subplots(sharex=True, sharey=True, nrows=1,ncols=2)\n",
    "sns.histplot(data=df_denovo, x='rg',ax=ax1)\n",
    "sns.histplot(data=df_scaffold, x=\"rg\", ax=ax2)"
   ]
  },
  {
   "cell_type": "code",
   "execution_count": 10,
   "id": "13808114-980b-43dc-bb38-f377944e2592",
   "metadata": {},
   "outputs": [
    {
     "data": {
      "text/plain": [
       "<AxesSubplot:xlabel='beta_perc', ylabel='Count'>"
      ]
     },
     "execution_count": 10,
     "metadata": {},
     "output_type": "execute_result"
    },
    {
     "data": {
      "image/png": "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\n",
      "text/plain": [
       "<Figure size 432x288 with 2 Axes>"
      ]
     },
     "metadata": {
      "needs_background": "light"
     },
     "output_type": "display_data"
    }
   ],
   "source": [
    "fig,(ax1,ax2) = plt.subplots(sharex=True, sharey=True, nrows=1,ncols=2)\n",
    "sns.histplot(data=df_denovo, x='beta_perc',ax=ax1)\n",
    "sns.histplot(data=df_scaffold, x=\"beta_perc\", ax=ax2)\n",
    "\n"
   ]
  },
  {
   "cell_type": "code",
   "execution_count": 11,
   "id": "4f729104-1955-45db-b550-bc4d02321fd4",
   "metadata": {},
   "outputs": [
    {
     "data": {
      "text/plain": [
       "<AxesSubplot:xlabel='alpha_perc', ylabel='Count'>"
      ]
     },
     "execution_count": 11,
     "metadata": {},
     "output_type": "execute_result"
    },
    {
     "data": {
      "image/png": "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\n",
      "text/plain": [
       "<Figure size 432x288 with 2 Axes>"
      ]
     },
     "metadata": {
      "needs_background": "light"
     },
     "output_type": "display_data"
    }
   ],
   "source": [
    "fig,(ax1,ax2) = plt.subplots(sharex=True, sharey=True, nrows=1,ncols=2)\n",
    "sns.histplot(data=df_denovo,x=\"alpha_perc\",ax=ax1)\n",
    "sns.histplot(data=df_scaffold,x=\"alpha_perc\",ax=ax2)"
   ]
  },
  {
   "cell_type": "code",
   "execution_count": 12,
   "id": "1c43541a-593a-46ea-a753-322ac9868b86",
   "metadata": {},
   "outputs": [
    {
     "data": {
      "text/plain": [
       "<AxesSubplot:xlabel='loop_perc', ylabel='Count'>"
      ]
     },
     "execution_count": 12,
     "metadata": {},
     "output_type": "execute_result"
    },
    {
     "data": {
      "image/png": "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\n",
      "text/plain": [
       "<Figure size 432x288 with 2 Axes>"
      ]
     },
     "metadata": {
      "needs_background": "light"
     },
     "output_type": "display_data"
    }
   ],
   "source": [
    "fig,(ax1,ax2) = plt.subplots(sharex=True, sharey=True, nrows=1,ncols=2)\n",
    "sns.histplot(data=df_denovo,x=\"loop_perc\",ax=ax1)\n",
    "sns.histplot(data=df_scaffold,x=\"loop_perc\",ax=ax2)"
   ]
  },
  {
   "cell_type": "code",
   "execution_count": 17,
   "id": "9915bfcc-fc0d-4207-86e9-dedbd5c72501",
   "metadata": {},
   "outputs": [
    {
     "name": "stdout",
     "output_type": "stream",
     "text": [
      "(583, 6)\n",
      "(503, 6)\n"
     ]
    }
   ],
   "source": [
    "picked_denovo_bb = df_denovo.loc[(df_denovo[\"nb_helice\"]>2)&(df_denovo[\"loop_perc\"]>0.07)&(df_denovo[\"alpha_perc\"]<0.94)&(df_denovo[\"rg\"]<19)&(df_denovo[\"nb_helice\"]<6)]\n",
    "print(picked_denovo_bb.shape)\n",
    "picked_scaffold_bb =  df_scaffold.loc[(df_scaffold[\"nb_helice\"]>2)&(df_scaffold[\"loop_perc\"]>0.05)&(df_scaffold[\"alpha_perc\"]<0.94)&(df_scaffold[\"rg\"]<19.6)&(df_scaffold[\"nb_helice\"]<6)]\n",
    "print(picked_scaffold_bb.shape)\n"
   ]
  },
  {
   "cell_type": "code",
   "execution_count": 23,
   "id": "f601ca67-0cb4-4a63-ac8e-b518cf5d436a",
   "metadata": {},
   "outputs": [
    {
     "name": "stdout",
     "output_type": "stream",
     "text": [
      "Index(['scaffold_152.pdb', 'scaffold_283.pdb', 'scaffold_2273.pdb',\n",
      "       'scaffold_1073.pdb', 'scaffold_2853.pdb', 'scaffold_1532.pdb',\n",
      "       'scaffold_2264.pdb', 'scaffold_182.pdb', 'scaffold_217.pdb',\n",
      "       'scaffold_1764.pdb',\n",
      "       ...\n",
      "       'scaffold_1064.pdb', 'scaffold_150.pdb', 'scaffold_333.pdb',\n",
      "       'scaffold_507.pdb', 'scaffold_2523.pdb', 'scaffold_627.pdb',\n",
      "       'scaffold_1318.pdb', 'scaffold_1681.pdb', 'scaffold_24.pdb',\n",
      "       'scaffold_2270.pdb'],\n",
      "      dtype='object', length=503)\n"
     ]
    }
   ],
   "source": [
    "folder_picked_bb = \"de_novo/picked_denovo_bb\"\n",
    "if not os.path.isdir(folder_picked_bb ):\n",
    "    os.mkdir(folder_picked_bb )\n",
    "    \n",
    "for path_bb in picked_denovo_bb.index:\n",
    "    shutil.copy('de_novo/' + \"prod_bb_denovo/\"+path_bb, folder_picked_bb+\"/\")\n",
    "\n",
    "folder_picked_bb = \"scaffold/picked_scaffold_bb\"\n",
    "\n",
    "if not os.path.isdir(folder_picked_bb ):\n",
    "    os.mkdir(folder_picked_bb )\n",
    "print(picked_scaffold_bb.index)\n",
    "for path_bb in picked_scaffold_bb.index:\n",
    "    shutil.copy('scaffold/prod/'+path_bb, folder_picked_bb+\"/\")\n"
   ]
  },
  {
   "cell_type": "markdown",
   "id": "f2fe777d-47f5-4a85-91ed-64ac1928005f",
   "metadata": {
    "tags": []
   },
   "source": [
    "# Running ProteinMPNN"
   ]
  },
  {
   "cell_type": "markdown",
   "id": "976d0c56-563d-4515-b80e-67f150996352",
   "metadata": {},
   "source": [
    "### After we picked the RFdiffusion backbones we design the sequences using ProteinMPNN:\n",
    "- ProteinMPNN requires helper scripts to work, at minimum parse_multiple_chains.py and in our case we add assign_fixed_chains.py to design only the chain designed by RFdiffusion, i.e. chain A\n",
    "- Other ProteinMPNN parameters are:\n",
    "    - num_seq_per_target\n",
    "    - sampling_temp: increases the diversity of sequence produced\n",
    "    - it is also possible to change the weights of ProteinMPNN for specific tasks "
   ]
  },
  {
   "cell_type": "markdown",
   "id": "ecb17377-1013-49f0-b1a2-626f8e680b57",
   "metadata": {},
   "source": [
    "## To run ProteinMPNN \n",
    "- Open a terminal \n",
    "- Go to the submit_scripts folder with:\n",
    "    - cd submit_scripts \n",
    "    - cd = change directory \n",
    "- Load the RFdiffusion module with:\n",
    "    - module load ProteinMPNN/1.0.1-20320627-foss-2022a-CUDA-11.7.0\n",
    "- Run the prompt with:\n",
    "    - protein_mpnn_de_novo.sh \n",
    "    - Wait for it to finish \n",
    "    - protein_mpnn_scaffold.sh \n",
    "    - A folder is created in ProteinDesignWorkshop\n",
    "- <u>**If it does not work**</u>:\n",
    "    - Directory issue:\n",
    "        - Use pwd (print working directory)\n",
    "        - And navigate to the correct directory with cd, i.e. submit_scipts/\n",
    "    - Issue with the modules:\n",
    "        - Check the loaded module:\n",
    "            - module list \n",
    "        - Unload the modules:\n",
    "            - module purge \n",
    "        - Load the correct modules, see above \n",
    "- If needed, go back to the previous folder with:\n",
    "    - cd ../"
   ]
  },
  {
   "cell_type": "code",
   "execution_count": 37,
   "id": "21ecdd0f-07be-4421-a770-fb3d16dd7e0c",
   "metadata": {},
   "outputs": [
    {
     "name": "stdout",
     "output_type": "stream",
     "text": [
      "┌──────────────────────────────────────────────────────────────────────────────┐\n",
      "│                                 PyRosetta-4                                  │\n",
      "│              Created in JHU by Sergey Lyskov and PyRosetta Team              │\n",
      "│              (C) Copyright Rosetta Commons Member Institutions               │\n",
      "│                                                                              │\n",
      "│ NOTE: USE OF PyRosetta FOR COMMERCIAL PURPOSES REQUIRE PURCHASE OF A LICENSE │\n",
      "│         See LICENSE.PyRosetta.md or email license@uw.edu for details         │\n",
      "└──────────────────────────────────────────────────────────────────────────────┘\n",
      "PyRosetta-4 2024 [Rosetta PyRosetta4.Release.python310.linux 2024.24+release.ca096dac4f43ee5ee195f87f3703a520fcf60cf9 2024-06-14T16:57:57] retrieved from: http://www.pyrosetta.org\n",
      "['>de_novo_3_1', 'SLAEELKKKEEERKLEKELEKCLAELKVAEKFFEKLGDKESVEEVKKNIEKIKKASKEDKINAFGIYEEVKKKVEEALKTASDEDWKEWDKELEEARKKAEEEYEKKE:ASFSTFKCYYADSFVIRGDEVRQIAPGQTGKIADYNYKLPDDFTGCVIAWNSNNLDSKKGGNYNYLYRLFRKSKLKPFERDTSMEIYQAGNTPCNGVKGFNCYFPLQSYGFRPTYGVGYQPYRVVVLS', '>de_novo_3_2', 'EEKKKEEEEKEKKRLDLAVAKALADLEVYEEFFKALGDEEQVAKIREDIEKALAMSEEDKINIFEIAIEARKAVEEALKTKSDADWAAYDKALAAARAAAEAAVKAEE:ASFSTFKCYYADSFVIRGDEVRQIAPGQTGKIADYNYKLPDDFTGCVIAWNSNNLDSKKGGNYNYLYRLFRKSKLKPFERDTSMEIYQAGNTPCNGVKGFNCYFPLQSYGFRPTYGVGYQPYRVVVLS', '>de_novo_0_1', 'SAALAAALAAAAAARAAEEAARAAAEALKEELLKKKIEEDNKKAEEVEKILNAILAELKSEEEQKKLLEEAAKILAIITALLLSFYPFLYLYVGYAADRALLAAVRAP:ASFSTFKCYYADSFVIRGDEVRQIAPGQTGKIADYNYKLPDDFTGCVIAWNSNNLDSKKGGNYNYLYRLFRKSKLKPFERDTSMEIYQAGNTPCNGVKGFNCYFPLQSYGFRPTYGVGYQPYRVVVLS', '>de_novo_0_2', 'AAAAAAAAAAAAAAAAALAAAREKAEALLEELRKKALEAENKAGAELAAVLSAILAALGSPAARAALLALLAAAGAKALAAAAAQAKKIYLEGGYAAREKLLAAVLAP:ASFSTFKCYYADSFVIRGDEVRQIAPGQTGKIADYNYKLPDDFTGCVIAWNSNNLDSKKGGNYNYLYRLFRKSKLKPFERDTSMEIYQAGNTPCNGVKGFNCYFPLQSYGFRPTYGVGYQPYRVVVLS', '>de_novo_2_1', 'SDYAAKKAALAAAKAAREAAAAALAAATAAAVALLAAGSADVPAALAAAEAALSALEDAHNAVVNLLTALSSDPEAGELRAKELETWATIQAQKEAIAALVAAYNAKQAAK:ASFSTFKCYYADSFVIRGDEVRQIAPGQTGKIADYNYKLPDDFTGCVIAWNSNNLDSKKGGNYNYLYRLFRKSKLKPFERDTSMEIYQAGNTPCNGVKGFNCYFPLQSYGFRPTYGVGYQPYRVVVLS', '>de_novo_2_2', 'SSLEAKLAALKQAQAKLAELNAQLDAALAAAEKALKEGSPEVLELLAKARELLSAVEDAHNAVVNLYREMSSLPWAGENEAKELDKWKDIEAKKKRLLELEAELNKKLAAQ:ASFSTFKCYYADSFVIRGDEVRQIAPGQTGKIADYNYKLPDDFTGCVIAWNSNNLDSKKGGNYNYLYRLFRKSKLKPFERDTSMEIYQAGNTPCNGVKGFNCYFPLQSYGFRPTYGVGYQPYRVVVLS', '>de_novo_1_1', 'SFYYLDVDGQGFEGKGDVEALLKALEERKKVLESIAKKSKDKELAEQLLVEEKGRLMINAINALVENKADKETCDKIKELVEKLKKELKKTGLPVAKSVLKEIDEYLKRLEESQKP:ASFSTFKCYYADSFVIRGDEVRQIAPGQTGKIADYNYKLPDDFTGCVIAWNSNNLDSKKGGNYNYLYRLFRKSKLKPFERDTSMEIYQAGNTPCNGVKGFNCYFPLQSYGFRPTYGVGYQPYRVVVLS', '>de_novo_1_2', 'SFYYLDLDANGFLGKGDVEAILKNLEERKKVLLSVAKKSKDKKLATSLLVSTLGSLMIDALVAAVENKAPKEVVDELLKRLDELKAELAKTGLPEAKSVLAELDAYEARLQASLAP:ASFSTFKCYYADSFVIRGDEVRQIAPGQTGKIADYNYKLPDDFTGCVIAWNSNNLDSKKGGNYNYLYRLFRKSKLKPFERDTSMEIYQAGNTPCNGVKGFNCYFPLQSYGFRPTYGVGYQPYRVVVLS']\n",
      "[]\n"
     ]
    }
   ],
   "source": [
    "py.init(\"-mute all\")\n",
    "\n",
    "\n",
    "\n",
    "def get_seq_target(path):\n",
    "    pose = py.pose_from_pdb(path)\n",
    "    c_selector = py.rosetta.core.select.residue_selector.ChainSelector(\"A\")\n",
    "    return pose.sequence()[len(list(c_selector.selection_positions(pose))):]\n",
    "\n",
    "def make_fasta(fasta_folder,bb_folder,fasta_name):\n",
    "    to_write=[]\n",
    "    seq_target = get_seq_target(glob.glob(f\"{bb_folder}/*.pdb\")[0])\n",
    "    # print(fasta_folder)\n",
    "    for seq in glob.glob(fasta_folder+\"/*.fa\"):\n",
    "        with open(seq) as fi:\n",
    "            lines = fi.readlines()\n",
    "        name = seq.split(\"/\")[-1].replace(\".fa\",\"\")\n",
    "        count = 1\n",
    "        for i in range(0,len(lines)):\n",
    "            if lines[i].startswith(\">T\"):\n",
    "                to_write.append(f\">{name}_{count}\")\n",
    "                to_write.append(lines[i+1].replace(\"\\n\",\"\")+\":\"+ seq_target)\n",
    "                count+=1\n",
    "    print(to_write)\n",
    "    with open(fasta_name,'w') as fi:\n",
    "        for line in to_write:\n",
    "            fi.writelines(line+\"\\n\")\n",
    "\n",
    "            \n",
    "make_fasta(\"mpnn_denovo/seqs\", \"rfdiffusion_de_novo\", \"de_novo.fa\")\n",
    "make_fasta(\"mpnn_scaffold/seqs\", \"rfdiffusion_scaffold\", \"scaffold.fa\")"
   ]
  },
  {
   "cell_type": "markdown",
   "id": "789505b9-7bf9-486c-a3dc-8d726858209a",
   "metadata": {
    "tags": []
   },
   "source": [
    "## Running colabfold "
   ]
  },
  {
   "cell_type": "markdown",
   "id": "1602bd83-56eb-46a5-b713-bad825ed3a09",
   "metadata": {},
   "source": [
    "### <u>Initial Guess</u>:\n",
    "- We already know the structure of the ACE2 binding domain, so we can give that structural information to ColabFold so the network will focus on the designed chain.\n",
    "- Thus we provide the .cif of the template with modifications from https://github.com/sokrypton/ColabFold/issues/177\n",
    "- Designed sequence will be new to nature, thus the MSA will not provide information. We use the single sequence mode to do the prediction without MSA \n",
    "- Then the designed sequences are picked using:\n",
    "    - pLDDT > 90\n",
    "    - RMSD between the design model and the ColabFold model < 1\n",
    "    - pAE < 6\n",
    "    - manual inspection of the ColabFold model     \n",
    "    \n",
    "Code modified from https://github.com/sokrypton/ColabFold"
   ]
  },
  {
   "cell_type": "markdown",
   "id": "fa14454e-dffc-43c6-b70d-3bed79486cf4",
   "metadata": {},
   "source": [
    "## To Run ColabFold \n",
    "    - Change directory to submit_scripts \n",
    "    - Load ColabFold/1.5.2-foss-2022a-CUDA-11.7.0\n",
    "    - bash colabfold_denovo.sh"
   ]
  },
  {
   "cell_type": "markdown",
   "id": "c6878a4a-08e4-49ad-a1ed-0b3c33d28aed",
   "metadata": {
    "tags": []
   },
   "source": [
    "## Analyze ColabFold results:"
   ]
  },
  {
   "cell_type": "code",
   "execution_count": 38,
   "id": "70d6c5c6-9e87-4df9-b222-7994611e341d",
   "metadata": {},
   "outputs": [],
   "source": [
    "def load_cbatch_results(dir_res):\n",
    "    dict = {}\n",
    "    if os.path.exists(dir_res.replace(\"/\",\".json\")):\n",
    "        fi = open(dir_res.replace(\"/\",\".json\"),\"r\")\n",
    "        df =  pd.DataFrame(json.load(fi))\n",
    "        fi.close()\n",
    "        return df\n",
    "\n",
    "    for res in glob.glob(dir_res+\"*_scores_*.json\"):\n",
    "        with open(res,\"r\") as fi:\n",
    "            data = json.load(fi)\n",
    "            mean_plddt = sum(data[\"plddt\"]) / len(data[\"plddt\"])\n",
    "            mean_pae_res = []\n",
    "            for i in data[\"pae\"]:\n",
    "                mean_pae_res.append(sum(i)/len(i))\n",
    "            dict[res.split(\"/\")[-1]] = {\"mean_plddt\":mean_plddt, \"ptm\":data[\"ptm\"], \"pae\":sum(mean_pae_res)/len(mean_pae_res)}\n",
    "    df = pd.DataFrame(dict).T\n",
    "    \n",
    "    df.to_json(path_or_buf=dir_res.replace(\"/\",\".json\"))\n",
    "        \n",
    "    return df\n",
    "\n",
    "\n",
    "def load_tmalign_res(path_json):\n",
    "    with open(path_json,'r') as j:\n",
    "        dict = json.load(j)\n",
    "        foo_df = pd.DataFrame(dict).T\n",
    "        new_index=[]\n",
    "        for index in foo_df.index:\n",
    "            new_index.append(index.split(\"/\")[-1].replace(\"unrelaxed\",\"scores\").replace(\".pdb\",\".json\"))\n",
    "        foo_df.index = new_index\n",
    "        return foo_df\n",
    "\n",
    "def json_to_pdb(json_path):\n",
    "    return json_path.replace(\"scores\",\"unrelaxed\").replace(\"json\",\"pdb\")\n",
    "\n",
    "\n",
    "# os.system(\"python run_tmalign_workshop.py picked_bb/ output_cfold/ tmalign_cfold.json\")\n",
    "# df_tmalign = load_tmalign_res(\"tmalign_cfold.json\")\n",
    "\n",
    "# df_cfold = pd.concat([load_cbatch_results(\"output_cfold/\"), load_tmalign_res(\"tmalign_cfold.json\")], axis=1)\n"
   ]
  },
  {
   "cell_type": "code",
   "execution_count": 53,
   "id": "34e6695d-cb63-4ac6-9454-559d551d94ab",
   "metadata": {},
   "outputs": [
    {
     "name": "stdout",
     "output_type": "stream",
     "text": [
      "                                                    mean_plddt   ptm  \\\n",
      "scaffold_1924_10_scores_rank_005_alphafold2_mul...   85.200656  0.70   \n",
      "scaffold_2758_6_scores_rank_001_alphafold2_mult...   74.869655  0.68   \n",
      "scaffold_1585_5_scores_rank_002_alphafold2_mult...   75.171612  0.55   \n",
      "scaffold_861_10_scores_rank_001_alphafold2_mult...   70.394194  0.59   \n",
      "scaffold_123_1_scores_rank_004_alphafold2_multi...   73.313777  0.56   \n",
      "...                                                        ...   ...   \n",
      "scaffold_946_7_scores_rank_004_alphafold2_multi...   65.184888  0.56   \n",
      "scaffold_2333_5_scores_rank_003_alphafold2_mult...   76.739146  0.57   \n",
      "scaffold_1131_4_scores_rank_003_alphafold2_mult...   76.115948  0.66   \n",
      "scaffold_304_1_scores_rank_001_alphafold2_multi...   85.168605  0.67   \n",
      "scaffold_2773_8_scores_rank_003_alphafold2_mult...   75.641504  0.56   \n",
      "\n",
      "                                                          pae  tmscore  RMSD  \n",
      "scaffold_1924_10_scores_rank_005_alphafold2_mul...   8.008628  0.58351  3.66  \n",
      "scaffold_2758_6_scores_rank_001_alphafold2_mult...  10.128922  0.94558  1.57  \n",
      "scaffold_1585_5_scores_rank_002_alphafold2_mult...  12.669521  0.57051  4.06  \n",
      "scaffold_861_10_scores_rank_001_alphafold2_mult...  12.995484  0.61495  3.54  \n",
      "scaffold_123_1_scores_rank_004_alphafold2_multi...  12.784222  0.60681  3.78  \n",
      "...                                                       ...      ...   ...  \n",
      "scaffold_946_7_scores_rank_004_alphafold2_multi...  14.900852  0.59684  3.85  \n",
      "scaffold_2333_5_scores_rank_003_alphafold2_mult...  12.486488  0.90041  2.17  \n",
      "scaffold_1131_4_scores_rank_003_alphafold2_mult...  10.219810  0.62838  3.38  \n",
      "scaffold_304_1_scores_rank_001_alphafold2_multi...   8.787263  0.60854  3.27  \n",
      "scaffold_2773_8_scores_rank_003_alphafold2_mult...  13.063234  0.74133  3.76  \n",
      "\n",
      "[25150 rows x 5 columns]\n",
      "(25150, 5)\n",
      "(29150, 5)\n"
     ]
    }
   ],
   "source": [
    "df_scaffold = pd.concat([pd.read_json(\"scaffold/cfold_scaffold.json\"), load_tmalign_res(\"scaffold/tmalign_scaffold.json\")],axis=1)\n",
    "df_denovo = pd.concat([pd.read_json(\"de_novo/cfold_initial_guess_prod.json\"), load_tmalign_res(\"de_novo/cfold_initial_guess_prod_tmalign.json\")],axis=1)\n",
    "df_scaffold.dropna(inplace=True)\n",
    "df_denovo.dropna(inplace=True)\n",
    "print(df_scaffold.shape)\n",
    "print(df_denovo.shape)"
   ]
  },
  {
   "cell_type": "code",
   "execution_count": 54,
   "id": "ad403afb-8056-4790-9907-4e0553ed2c09",
   "metadata": {},
   "outputs": [
    {
     "data": {
      "text/plain": [
       "<AxesSubplot:xlabel='mean_plddt', ylabel='Count'>"
      ]
     },
     "execution_count": 54,
     "metadata": {},
     "output_type": "execute_result"
    },
    {
     "data": {
      "image/png": "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\n",
      "text/plain": [
       "<Figure size 432x288 with 2 Axes>"
      ]
     },
     "metadata": {
      "needs_background": "light"
     },
     "output_type": "display_data"
    }
   ],
   "source": [
    "%matplotlib inline\n",
    "fig,(ax1,ax2) = plt.subplots(nrows=1,ncols=2,sharex=True,sharey=True)\n",
    "sns.histplot(data=df_scaffold, x=\"mean_plddt\", ax=ax1)\n",
    "sns.histplot(data=df_denovo, x=\"mean_plddt\", ax=ax2)\n"
   ]
  },
  {
   "cell_type": "code",
   "execution_count": 55,
   "id": "320721e4-c3ed-459a-8d8e-e18791ad9f6f",
   "metadata": {},
   "outputs": [
    {
     "data": {
      "text/plain": [
       "<AxesSubplot:xlabel='pae', ylabel='Count'>"
      ]
     },
     "execution_count": 55,
     "metadata": {},
     "output_type": "execute_result"
    },
    {
     "data": {
      "image/png": "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\n",
      "text/plain": [
       "<Figure size 432x288 with 2 Axes>"
      ]
     },
     "metadata": {
      "needs_background": "light"
     },
     "output_type": "display_data"
    }
   ],
   "source": [
    "fig,(ax1,ax2) = plt.subplots(nrows=1,ncols=2,sharex=True,sharey=True)\n",
    "sns.histplot(data=df_scaffold, x=\"pae\", ax=ax1)\n",
    "sns.histplot(data=df_denovo, x=\"pae\", ax=ax2)"
   ]
  },
  {
   "cell_type": "code",
   "execution_count": 56,
   "id": "1f921127-7931-4542-9834-2613e71da689",
   "metadata": {},
   "outputs": [
    {
     "data": {
      "text/plain": [
       "<AxesSubplot:xlabel='RMSD', ylabel='Count'>"
      ]
     },
     "execution_count": 56,
     "metadata": {},
     "output_type": "execute_result"
    },
    {
     "data": {
      "image/png": "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\n",
      "text/plain": [
       "<Figure size 432x288 with 2 Axes>"
      ]
     },
     "metadata": {
      "needs_background": "light"
     },
     "output_type": "display_data"
    }
   ],
   "source": [
    "fig,(ax1,ax2) = plt.subplots(nrows=1,ncols=2,sharex=True,sharey=True)\n",
    "sns.histplot(data=df_scaffold, x=\"RMSD\", ax=ax1)\n",
    "sns.histplot(data=df_denovo, x=\"RMSD\", ax=ax2)"
   ]
  },
  {
   "cell_type": "code",
   "execution_count": null,
   "id": "4e5565af-a527-435e-b8ae-43dc5a431b57",
   "metadata": {},
   "outputs": [],
   "source": [
    "picked_denovo = df_cfold.loc[(df_cfold[\"RMSD\"]<1)&(df_cfold[\"mean_plddt\"]>90)&(df_cfold[\"pae\"]<5)]\n",
    "picked_scaffold = "
   ]
  }
 ],
 "metadata": {
  "kernelspec": {
   "display_name": "Python 3 (ipykernel)",
   "language": "python",
   "name": "python3"
  },
  "language_info": {
   "codemirror_mode": {
    "name": "ipython",
    "version": 3
   },
   "file_extension": ".py",
   "mimetype": "text/x-python",
   "name": "python",
   "nbconvert_exporter": "python",
   "pygments_lexer": "ipython3",
   "version": "3.10.4"
  }
 },
 "nbformat": 4,
 "nbformat_minor": 5
}
